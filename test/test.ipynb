{
 "cells": [
  {
   "cell_type": "code",
   "execution_count": 11,
   "metadata": {},
   "outputs": [],
   "source": [
    "from ligand_param.module import *"
   ]
  },
  {
   "cell_type": "code",
   "execution_count": 12,
   "metadata": {},
   "outputs": [
    {
     "name": "stdout",
     "output_type": "stream",
     "text": [
      "This worked!\n"
     ]
    }
   ],
   "source": [
    "from ligand_param.stages.teststage import TestStage\n",
    "\n",
    "TestStage(name='test').execute()"
   ]
  },
  {
   "cell_type": "code",
   "execution_count": 13,
   "metadata": {},
   "outputs": [
    {
     "name": "stdout",
     "output_type": "stream",
     "text": [
      "New Parametrization for FBKRP.pdb\n",
      "*******************************\n",
      "User supplied parameters:\n",
      "Net charge: 0\n",
      "Atom type: None\n",
      "Low level QM Theory: HF/6-31G*\n",
      "High level QM Theory: PBE1PBE/6-31G*\n",
      "Number of processors: 6\n",
      "Memory: 8GB\n",
      "Gaussian header is:\n",
      "['%NPROC=6', '%MEM=8GB']\n",
      "************************************\n",
      "Executing Minimize\n",
      "************************************\n",
      "Executing command\n",
      " Unable to open input file \"<.com\" or \"<.gjf\".\n"
     ]
    },
    {
     "name": "stderr",
     "output_type": "stream",
     "text": [
      "Error: segmentation violation\n",
      "   rax 0000000000000000, rbx 0000000000000005, rcx 00007f5262e2976b\n",
      "   rdx 00000000ffffffff, rsp 00007ffd9d8c2f28, rbp 00007ffd9d8ca460\n",
      "   rsi 000000000000000b, rdi 000000000027de65, r8  0000000000000003\n",
      "   r9  0000000000000077, r10 00007f5262e12f08, r11 0000000000000206\n",
      "   r12 ffffffffffffffff, r13 0000000000451090, r14 ffffffffffffffff\n",
      "   r15 00007f52632bd000\n",
      "  /lib64/libc.so.6(+0x54e20) [0x7f5262e54e20]\n",
      "  /lib64/libc.so.6(kill+0xb) [0x7f5262e2976b]\n",
      "  g16() [0x454ae9]\n",
      "  g16() [0x451602]\n",
      "  g16() [0x4510d4]\n",
      "  /lib64/libc.so.6(+0x3feb0) [0x7f5262e3feb0]\n",
      "  /lib64/libc.so.6(__libc_start_main+0x80) [0x7f5262e3ff60]\n",
      "  g16() [0x450fc9]\n"
     ]
    },
    {
     "name": "stdout",
     "output_type": "stream",
     "text": [
      "Command ['g16', '<', 'FBKRP.com', '>', 'FBKRP.log'] executed\n",
      "************************************\n",
      "Executing LazyResp\n",
      "************************************\n",
      "Executing LazyResp with netcharge=0\n",
      "Executing command\n",
      "Info: acdoctor mode is on: check and diagnose problems in the input file.\n",
      "Info: The atom type is set to gaff2; the options available to the -at flag are\n",
      "      gaff, gaff2, amber, bcc, abcg2, and sybyl.\n",
      "\n",
      "Command ['antechamber', '-i', 'gaussianCalcs/FBKRP.log', '-fi', 'gout', '-o', 'FBKRP.resp.mol2', '-fo', 'mol2', '-gv', '0', '-c', 'resp', '-nc', '0', '-at', 'gaff2'] executed\n",
      "************************************\n",
      "Executing ParmChk\n",
      "************************************\n",
      "Executing ParmChk with netcharge=0\n",
      "Executing command\n",
      "Command ['parmchk2', '-i', 'FBKRP.resp.mol2', '-f', 'mol2', '-o', 'FBKRP.frcmod', '-s', '2'] executed\n",
      "************************************\n",
      "Executing Leap\n",
      "************************************\n",
      "Executing Leap with netcharge=0\n",
      "Executing command\n",
      "-I: Adding /home/piskulic/devel/git/Programs/amber24/dat/leap/prep to search path.\n",
      "-I: Adding /home/piskulic/devel/git/Programs/amber24/dat/leap/lib to search path.\n",
      "-I: Adding /home/piskulic/devel/git/Programs/amber24/dat/leap/parm to search path.\n",
      "-I: Adding /home/piskulic/devel/git/Programs/amber24/dat/leap/cmd to search path.\n",
      "-f: Source tleap.param.in.\n",
      "\n",
      "Welcome to LEaP!\n",
      "(no leaprc in search path)\n",
      "Sourcing: ./tleap.param.in\n",
      "Loading parameters: ./FBKRP.frcmod\n",
      "Reading force field modification type file (frcmod)\n",
      "Reading title:\n",
      "Remark line goes here\n",
      "Loading Mol2 file: ./FBKRP.resp.mol2\n",
      "Reading MOLECULE named MOL\n",
      "Building topology.\n",
      "Building atom parameters.\n",
      "\tQuit\n",
      "\n",
      "Exiting LEaP: Errors = 0; Warnings = 0; Notes = 0.\n",
      "Command ['tleap', '-f', 'tleap.param.in'] executed\n"
     ]
    },
    {
     "name": "stderr",
     "output_type": "stream",
     "text": [
      "/home/piskulic/devel/git/Programs/amber24/bin/wrapped_progs/antechamber: Fatal Error!\n",
      "Cannot open the input file (gaussianCalcs/FBKRP.log).\n",
      "No such file or directory\n"
     ]
    }
   ],
   "source": [
    "test = LazyLigand('FBKRP.pdb', netcharge=0)\n",
    "test.setup()\n",
    "test.execute(dry_run=False)"
   ]
  },
  {
   "cell_type": "code",
   "execution_count": null,
   "metadata": {},
   "outputs": [],
   "source": []
  }
 ],
 "metadata": {
  "kernelspec": {
   "display_name": "base",
   "language": "python",
   "name": "python3"
  },
  "language_info": {
   "codemirror_mode": {
    "name": "ipython",
    "version": 3
   },
   "file_extension": ".py",
   "mimetype": "text/x-python",
   "name": "python",
   "nbconvert_exporter": "python",
   "pygments_lexer": "ipython3",
   "version": "3.12.2"
  }
 },
 "nbformat": 4,
 "nbformat_minor": 2
}
