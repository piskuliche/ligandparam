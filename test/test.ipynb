{
 "cells": [
  {
   "cell_type": "code",
   "execution_count": 1,
   "metadata": {},
   "outputs": [],
   "source": [
    "from ligand_param.module import *"
   ]
  },
  {
   "cell_type": "code",
   "execution_count": 2,
   "metadata": {},
   "outputs": [
    {
     "name": "stdout",
     "output_type": "stream",
     "text": [
      "New Parametrization for FBKRP.pdb\n",
      "*******************************\n",
      "User supplied parameters:\n",
      "Net charge: 0\n",
      "Atom type: None\n",
      "Low level QM Theory: HF/6-31G*\n",
      "High level QM Theory: PBE1PBE/6-31G*\n",
      "Number of processors: 6\n",
      "Memory: 8GB\n",
      "************************************\n",
      "Executing Initialize\n",
      "************************************\n",
      "Info: acdoctor mode is on: check and diagnose problems in the input file.\n",
      "Info: The atom type is set to gaff; the options available to the -at flag are\n",
      "      gaff, gaff2, amber, bcc, abcg2, and sybyl.\n",
      "\n",
      "-- Check Format for pdb File --\n",
      "   Status: pass\n",
      "Info: Total number of electrons: 158; net charge: 0\n",
      "\n",
      "Running: /home/piskulic/devel/git/Programs/amber24/bin/sqm -O -i sqm.in -o sqm.out\n",
      "\n",
      "************************************\n",
      "Executing Minimize\n",
      "************************************\n",
      "Executing stage Minimize\n",
      "File gaussianCalcs/FBKRP.log already exists. Exiting.\n",
      "['g16', '< gaussianCalcs/FBKRP.com', '> FBKRP.log']\n",
      "************************************\n",
      "Executing LazyResp\n",
      "************************************\n",
      "Executing LazyResp with netcharge=0\n",
      "Info: acdoctor mode is on: check and diagnose problems in the input file.\n",
      "Info: The atom type is set to gaff2; the options available to the -at flag are\n",
      "      gaff, gaff2, amber, bcc, abcg2, and sybyl.\n",
      "\n",
      "-- Check Format for Gaussian Output File --\n",
      "   Status: pass\n",
      "\n",
      "\n",
      "\n",
      "\n",
      "************************************\n",
      "Executing ParmChk\n",
      "************************************\n",
      "Executing ParmChk with netcharge=0\n",
      "************************************\n",
      "Executing Leap\n",
      "************************************\n",
      "Executing Leap with netcharge=0\n",
      "-I: Adding /home/piskulic/devel/git/Programs/amber24/dat/leap/prep to search path.\n",
      "-I: Adding /home/piskulic/devel/git/Programs/amber24/dat/leap/lib to search path.\n",
      "-I: Adding /home/piskulic/devel/git/Programs/amber24/dat/leap/parm to search path.\n",
      "-I: Adding /home/piskulic/devel/git/Programs/amber24/dat/leap/cmd to search path.\n",
      "-f: Source tleap.param.in.\n",
      "\n",
      "Welcome to LEaP!\n",
      "(no leaprc in search path)\n",
      "Sourcing: ./tleap.param.in\n",
      "Loading parameters: ./FBKRP.frcmod\n",
      "Reading force field modification type file (frcmod)\n",
      "Reading title:\n",
      "Remark line goes here\n",
      "Loading Mol2 file: ./FBKRP.resp.mol2\n",
      "Reading MOLECULE named MOL\n",
      "Building topology.\n",
      "Building atom parameters.\n",
      "\tQuit\n",
      "\n",
      "Exiting LEaP: Errors = 0; Warnings = 0; Notes = 0.\n"
     ]
    }
   ],
   "source": [
    "test = LazyLigand('FBKRP.pdb', netcharge=0)\n",
    "test.setup()\n",
    "test.execute(dry_run=False)"
   ]
  },
  {
   "cell_type": "code",
   "execution_count": null,
   "metadata": {},
   "outputs": [],
   "source": []
  }
 ],
 "metadata": {
  "kernelspec": {
   "display_name": "base",
   "language": "python",
   "name": "python3"
  },
  "language_info": {
   "codemirror_mode": {
    "name": "ipython",
    "version": 3
   },
   "file_extension": ".py",
   "mimetype": "text/x-python",
   "name": "python",
   "nbconvert_exporter": "python",
   "pygments_lexer": "ipython3",
   "version": "3.12.2"
  }
 },
 "nbformat": 4,
 "nbformat_minor": 2
}
